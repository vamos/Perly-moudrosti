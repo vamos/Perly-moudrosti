{
 "cells": [
  {
   "cell_type": "markdown",
   "metadata": {},
   "source": [
    "# Test prerekvizitních znalostí Pythonu\n",
    "Na tomto testu byste si měli ověřit, zda chápete základní struktury a konstrukce v jazyku Python. \n",
    "\n",
    "_Odhadovaná doba řešení:_ 10 minut\n",
    "\n",
    "_Odevzdávání:_ tento soubor `test.ipynb` odevzdejte do WISu do čtvrtka 24. září 2020\n",
    "\n",
    "_Dotazy:_ fórum ve WISu, hodnotit bude V. Mrázek"
   ]
  },
  {
   "cell_type": "code",
   "execution_count": 1,
   "metadata": {
    "tags": []
   },
   "outputs": [
    {
     "name": "stdout",
     "output_type": "stream",
     "text": [
      "3.8.5 (v3.8.5:580fbb018f, Jul 20 2020, 12:11:27) \n",
      "[Clang 6.0 (clang-600.0.57)]\n"
     ]
    }
   ],
   "source": [
    "# test verze jazyka Python\n",
    "import sys\n",
    "print(sys.version)\n",
    "# mela by byt Python 3.8"
   ]
  },
  {
   "cell_type": "code",
   "execution_count": 2,
   "metadata": {
    "tags": []
   },
   "outputs": [
    {
     "name": "stdout",
     "output_type": "stream",
     "text": [
      "xdvora2t\n"
     ]
    }
   ],
   "source": [
    "# TODO: vypište váš login\n",
    "print(\"xdvora2t\")"
   ]
  },
  {
   "cell_type": "markdown",
   "metadata": {},
   "source": [
    "## Část 1: funkce\n",
    "\n",
    "- Napište funci `f1` s proměnným počtem __pozičně nezávislých__ argumentů, která vypíše všechny argumenty ve formátu\n",
    "```\n",
    "param1=hodnota1\n",
    "param2=hodnota2\n",
    "param3=hodnota3\n",
    "param4=hodnota4\n",
    "```"
   ]
  },
  {
   "cell_type": "code",
   "execution_count": 3,
   "metadata": {
    "tags": []
   },
   "outputs": [
    {
     "name": "stdout",
     "output_type": "stream",
     "text": [
      "param1=hodnota1\n",
      "param2=hodnota2\n",
      "param3=hodnota3\n",
      "param4=hodnota4\n"
     ]
    }
   ],
   "source": [
    "# Funkce s proměnným počtem argumentů\n",
    "# TODO: napiste funkci f1\n",
    "def f1(**kwargs):\n",
    "    for key,value in kwargs.items():\n",
    "        print(\"{}={}\".format(key,value))\n",
    "\n",
    "\n",
    "f1(param1=\"hodnota1\", param2=\"hodnota2\", param3=\"hodnota3\", param4=\"hodnota4\")"
   ]
  },
  {
   "cell_type": "markdown",
   "metadata": {},
   "source": [
    "Zavolejte tuto funkci s parametry param1=hodnota1, param2=hodnota2, ... param100=hodnota100. Abyste nemuseli psát 100 různých výsledků, předejte je přes objekt typu `dictionary`. Zřejmě k tomu využijete výčet `range`, formátovací řetězce a můžete použít zápis na jeden řádek pomocí tzv _generátorové notace_."
   ]
  },
  {
   "cell_type": "code",
   "execution_count": 4,
   "metadata": {
    "tags": []
   },
   "outputs": [
    {
     "name": "stdout",
     "output_type": "stream",
     "text": [
      "param1=hodnota1\n",
      "param2=hodnota2\n",
      "param3=hodnota3\n",
      "param4=hodnota4\n",
      "param5=hodnota5\n",
      "param6=hodnota6\n",
      "param7=hodnota7\n",
      "param8=hodnota8\n",
      "param9=hodnota9\n",
      "param10=hodnota10\n",
      "param11=hodnota11\n",
      "param12=hodnota12\n",
      "param13=hodnota13\n",
      "param14=hodnota14\n",
      "param15=hodnota15\n",
      "param16=hodnota16\n",
      "param17=hodnota17\n",
      "param18=hodnota18\n",
      "param19=hodnota19\n",
      "param20=hodnota20\n",
      "param21=hodnota21\n",
      "param22=hodnota22\n",
      "param23=hodnota23\n",
      "param24=hodnota24\n",
      "param25=hodnota25\n",
      "param26=hodnota26\n",
      "param27=hodnota27\n",
      "param28=hodnota28\n",
      "param29=hodnota29\n",
      "param30=hodnota30\n",
      "param31=hodnota31\n",
      "param32=hodnota32\n",
      "param33=hodnota33\n",
      "param34=hodnota34\n",
      "param35=hodnota35\n",
      "param36=hodnota36\n",
      "param37=hodnota37\n",
      "param38=hodnota38\n",
      "param39=hodnota39\n",
      "param40=hodnota40\n",
      "param41=hodnota41\n",
      "param42=hodnota42\n",
      "param43=hodnota43\n",
      "param44=hodnota44\n",
      "param45=hodnota45\n",
      "param46=hodnota46\n",
      "param47=hodnota47\n",
      "param48=hodnota48\n",
      "param49=hodnota49\n",
      "param50=hodnota50\n",
      "param51=hodnota51\n",
      "param52=hodnota52\n",
      "param53=hodnota53\n",
      "param54=hodnota54\n",
      "param55=hodnota55\n",
      "param56=hodnota56\n",
      "param57=hodnota57\n",
      "param58=hodnota58\n",
      "param59=hodnota59\n",
      "param60=hodnota60\n",
      "param61=hodnota61\n",
      "param62=hodnota62\n",
      "param63=hodnota63\n",
      "param64=hodnota64\n",
      "param65=hodnota65\n",
      "param66=hodnota66\n",
      "param67=hodnota67\n",
      "param68=hodnota68\n",
      "param69=hodnota69\n",
      "param70=hodnota70\n",
      "param71=hodnota71\n",
      "param72=hodnota72\n",
      "param73=hodnota73\n",
      "param74=hodnota74\n",
      "param75=hodnota75\n",
      "param76=hodnota76\n",
      "param77=hodnota77\n",
      "param78=hodnota78\n",
      "param79=hodnota79\n",
      "param80=hodnota80\n",
      "param81=hodnota81\n",
      "param82=hodnota82\n",
      "param83=hodnota83\n",
      "param84=hodnota84\n",
      "param85=hodnota85\n",
      "param86=hodnota86\n",
      "param87=hodnota87\n",
      "param88=hodnota88\n",
      "param89=hodnota89\n",
      "param90=hodnota90\n",
      "param91=hodnota91\n",
      "param92=hodnota92\n",
      "param93=hodnota93\n",
      "param94=hodnota94\n",
      "param95=hodnota95\n",
      "param96=hodnota96\n",
      "param97=hodnota97\n",
      "param98=hodnota98\n",
      "param99=hodnota99\n",
      "param100=hodnota100\n"
     ]
    }
   ],
   "source": [
    "# TODO: na jednom řádku vyřešte výše uvedené volání\n",
    "f1(**{\"param{}\".format(x+1):\"hodnota{}\".format(x+1) for x in range(100)})"
   ]
  },
  {
   "cell_type": "markdown",
   "metadata": {},
   "source": [
    "## Část 2: Třídy\n",
    "\n",
    "Vytvořte třídu `Auto`, které má:\n",
    "\n",
    "- incializátor, který vezme argument `vykon` a nastaví jej do parametru objektu `vykon`\n",
    "- funkci, která zařídí, že když se zadá `print(instance_objektu)`, tak se vypíše `Auto(vykon=??)`, kde `??` bude nahrazeno parametrem objektu `vykon`\n",
    "- proměnnou `vykon`, která bude řízená přes tzv. _getter_ a _setter_ (viz `@property` kontrukce tak), že\n",
    "  - getter vrátí interní proměnnou `self.__vykon`\n",
    "  - setter nastaví tuto interní proměnnou, pouze když je hodnota nezáporná. Jinak vyvolá vyjímku `ValueError` s popisem `Vykon nemuze byt mensi nez 0, bylo zadano ??`."
   ]
  },
  {
   "cell_type": "code",
   "execution_count": 5,
   "metadata": {
    "tags": []
   },
   "outputs": [
    {
     "name": "stdout",
     "output_type": "stream",
     "text": [
      "Muj objekt je Auto(vykon=125)\n"
     ]
    }
   ],
   "source": [
    "#TODO: vytvorte tridu\n",
    "class Auto:\n",
    "    def __init__(self, vykon):\n",
    "        self.vykon = vykon\n",
    "    \n",
    "    def __str__(self):\n",
    "        return \"Auto(vykon=\" + str(self.vykon) + \")\"\n",
    "    \n",
    "    @property\n",
    "    def vykon(self):\n",
    "        return self.__vykon\n",
    "    @vykon.setter\n",
    "    def vykon(self, value):\n",
    "        if value < 0:\n",
    "            raise ValueError(\"Vykon nemuze byt mensi nez 0, bylo zadano {}\".format(value))\n",
    "        else:\n",
    "            self.__vykon = value\n",
    "\n",
    "\n",
    "auto = Auto(vykon=15)\n",
    "auto.vykon = 125\n",
    "print(\"Muj objekt je\", auto)\n"
   ]
  },
  {
   "cell_type": "markdown",
   "metadata": {},
   "source": [
    "Test vyvolání vyjímky - zkusíme natastavit zápornou hodnotu výkonu auta."
   ]
  },
  {
   "cell_type": "code",
   "execution_count": 6,
   "metadata": {},
   "outputs": [
    {
     "ename": "ValueError",
     "evalue": "Vykon nemuze byt mensi nez 0, bylo zadano -100",
     "output_type": "error",
     "traceback": [
      "\u001b[0;31m---------------------------------------------------------------------------\u001b[0m",
      "\u001b[0;31mValueError\u001b[0m                                Traceback (most recent call last)",
      "\u001b[0;32m<ipython-input-6-5e2e5283e8f8>\u001b[0m in \u001b[0;36m<module>\u001b[0;34m\u001b[0m\n\u001b[1;32m      1\u001b[0m \u001b[0mauto\u001b[0m \u001b[0;34m=\u001b[0m \u001b[0mAuto\u001b[0m\u001b[0;34m(\u001b[0m\u001b[0mvykon\u001b[0m\u001b[0;34m=\u001b[0m\u001b[0;36m15\u001b[0m\u001b[0;34m)\u001b[0m\u001b[0;34m\u001b[0m\u001b[0;34m\u001b[0m\u001b[0m\n\u001b[0;32m----> 2\u001b[0;31m \u001b[0mauto\u001b[0m\u001b[0;34m.\u001b[0m\u001b[0mvykon\u001b[0m \u001b[0;34m=\u001b[0m \u001b[0;34m-\u001b[0m\u001b[0;36m100\u001b[0m\u001b[0;34m\u001b[0m\u001b[0;34m\u001b[0m\u001b[0m\n\u001b[0m",
      "\u001b[0;32m<ipython-input-5-f0d5ac855d33>\u001b[0m in \u001b[0;36mvykon\u001b[0;34m(self, value)\u001b[0m\n\u001b[1;32m     13\u001b[0m     \u001b[0;32mdef\u001b[0m \u001b[0mvykon\u001b[0m\u001b[0;34m(\u001b[0m\u001b[0mself\u001b[0m\u001b[0;34m,\u001b[0m \u001b[0mvalue\u001b[0m\u001b[0;34m)\u001b[0m\u001b[0;34m:\u001b[0m\u001b[0;34m\u001b[0m\u001b[0;34m\u001b[0m\u001b[0m\n\u001b[1;32m     14\u001b[0m         \u001b[0;32mif\u001b[0m \u001b[0mvalue\u001b[0m \u001b[0;34m<\u001b[0m \u001b[0;36m0\u001b[0m\u001b[0;34m:\u001b[0m\u001b[0;34m\u001b[0m\u001b[0;34m\u001b[0m\u001b[0m\n\u001b[0;32m---> 15\u001b[0;31m             \u001b[0;32mraise\u001b[0m \u001b[0mValueError\u001b[0m\u001b[0;34m(\u001b[0m\u001b[0;34m\"Vykon nemuze byt mensi nez 0, bylo zadano {}\"\u001b[0m\u001b[0;34m.\u001b[0m\u001b[0mformat\u001b[0m\u001b[0;34m(\u001b[0m\u001b[0mvalue\u001b[0m\u001b[0;34m)\u001b[0m\u001b[0;34m)\u001b[0m\u001b[0;34m\u001b[0m\u001b[0;34m\u001b[0m\u001b[0m\n\u001b[0m\u001b[1;32m     16\u001b[0m         \u001b[0;32melse\u001b[0m\u001b[0;34m:\u001b[0m\u001b[0;34m\u001b[0m\u001b[0;34m\u001b[0m\u001b[0m\n\u001b[1;32m     17\u001b[0m             \u001b[0mself\u001b[0m\u001b[0;34m.\u001b[0m\u001b[0m__vykon\u001b[0m \u001b[0;34m=\u001b[0m \u001b[0mvalue\u001b[0m\u001b[0;34m\u001b[0m\u001b[0;34m\u001b[0m\u001b[0m\n",
      "\u001b[0;31mValueError\u001b[0m: Vykon nemuze byt mensi nez 0, bylo zadano -100"
     ]
    }
   ],
   "source": [
    "auto = Auto(vykon=15)\n",
    "auto.vykon = -100"
   ]
  },
  {
   "cell_type": "markdown",
   "metadata": {},
   "source": [
    "Nyní je vaším úkolem napsat ošetření vyjímky, které při nastavení záporné hodnoty výkonu vypíše chybovou hlášku, kterou převezme z vyjímky (použijte konstrukci `ValueError as e` a vypište i proměnnou `e`)"
   ]
  },
  {
   "cell_type": "code",
   "execution_count": 7,
   "metadata": {
    "tags": []
   },
   "outputs": [
    {
     "name": "stdout",
     "output_type": "stream",
     "text": [
      "Vykon nemuze byt mensi nez 0, bylo zadano -100\n",
      "Vse probehlo OK\n"
     ]
    }
   ],
   "source": [
    "#TODO: vytvorte konstrukci zachytavani chyby\n",
    "try:\n",
    "    auto = Auto(vykon=-100)\n",
    "except ValueError as e:\n",
    "    print(e)\n",
    "\n",
    "print(\"Vse probehlo OK\")\n"
   ]
  },
  {
   "cell_type": "markdown",
   "metadata": {},
   "source": [
    "## Část 3: Smyčky, pole atd.\n",
    "\n",
    "Vytvoříme data, se kterými budeme pracovat"
   ]
  },
  {
   "cell_type": "code",
   "execution_count": 8,
   "metadata": {},
   "outputs": [],
   "source": [
    "data = [\n",
    "    (\"Karel\", \"Procházka\"),\n",
    "    (\"Lucie\", \"Nováková\"),\n",
    "    (\"Přemysl\", \"Oráč\")\n",
    "]"
   ]
  },
  {
   "cell_type": "markdown",
   "metadata": {},
   "source": [
    "Projdete data v cyklu s tím, že vypíšete:\n",
    "```\n",
    "1. Karel Procházka\n",
    "2. Lucie Nováková\n",
    "3. Přemysl Oráč\n",
    "```\n",
    "\n",
    "Použijte jeden cyklus s tím, že budete plnit proměnné `rid`, `jmeno` a `prijmeni` - použijte funkce `enumerate` a rozbalení  (_upacking_)."
   ]
  },
  {
   "cell_type": "code",
   "execution_count": 9,
   "metadata": {
    "tags": []
   },
   "outputs": [
    {
     "name": "stdout",
     "output_type": "stream",
     "text": [
      "1. Karel Procházka\n",
      "2. Lucie Nováková\n",
      "3. Přemysl Oráč\n"
     ]
    }
   ],
   "source": [
    "#TODO: napiste cyklus\n",
    "for rid, (jmeno, prijmeni) in enumerate(data):\n",
    "     print(\"{}. {} {}\".format(rid+1, jmeno, prijmeni))"
   ]
  },
  {
   "cell_type": "markdown",
   "metadata": {},
   "source": [
    "A vypište poslední prvek posle"
   ]
  },
  {
   "cell_type": "code",
   "execution_count": 10,
   "metadata": {
    "tags": []
   },
   "outputs": [
    {
     "name": "stdout",
     "output_type": "stream",
     "text": [
      "('Přemysl', 'Oráč')\n"
     ]
    }
   ],
   "source": [
    "#TODO: výpis posledního prvku\n",
    "print(data[-1])"
   ]
  },
  {
   "cell_type": "code",
   "execution_count": null,
   "metadata": {},
   "outputs": [],
   "source": []
  }
 ],
 "metadata": {
  "kernelspec": {
   "display_name": "Python 3",
   "language": "python",
   "name": "python3"
  },
  "language_info": {
   "codemirror_mode": {
    "name": "ipython",
    "version": 3
   },
   "file_extension": ".py",
   "mimetype": "text/x-python",
   "name": "python",
   "nbconvert_exporter": "python",
   "pygments_lexer": "ipython3",
   "version": "3.8.5"
  }
 },
 "nbformat": 4,
 "nbformat_minor": 2
}
